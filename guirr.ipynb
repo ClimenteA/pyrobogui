{
 "cells": [
  {
   "cell_type": "code",
   "execution_count": null,
   "metadata": {},
   "outputs": [],
   "source": [
    "from tkinter import *\n",
    "from pynput.mouse import Button, Controller"
   ]
  },
  {
   "cell_type": "code",
   "execution_count": null,
   "metadata": {},
   "outputs": [],
   "source": [
    "m = Controller()"
   ]
  },
  {
   "cell_type": "code",
   "execution_count": null,
   "metadata": {},
   "outputs": [],
   "source": [
    "def hover(xy):\n",
    "    \"\"\" Move mouse to xy position \"\"\"\n",
    "    m.position = xy "
   ]
  },
  {
   "cell_type": "code",
   "execution_count": null,
   "metadata": {},
   "outputs": [],
   "source": [
    "def lclick(xy):\n",
    "    \"\"\" Left click \"\"\"\n",
    "    hover(xy)\n",
    "    m.click(Button.left, count=1)"
   ]
  },
  {
   "cell_type": "code",
   "execution_count": null,
   "metadata": {},
   "outputs": [],
   "source": [
    "def rclick(xy):\n",
    "    \"\"\" Right click \"\"\"\n",
    "    hover(xy)\n",
    "    m.click(Button.right, count=1)"
   ]
  },
  {
   "cell_type": "code",
   "execution_count": null,
   "metadata": {},
   "outputs": [],
   "source": [
    "def dclick(xy):\n",
    "    \"\"\" Double click \"\"\"\n",
    "    hover(xy)\n",
    "    m.click(Button.left, count=2)"
   ]
  },
  {
   "cell_type": "code",
   "execution_count": null,
   "metadata": {},
   "outputs": [],
   "source": [
    "def mpos():\n",
    "    \"\"\" Current mouse position \"\"\"\n",
    "    return m.position"
   ]
  },
  {
   "cell_type": "code",
   "execution_count": null,
   "metadata": {},
   "outputs": [],
   "source": [
    "def screen_size():\n",
    "    \"\"\" Get screen resolution using tkinter (on linux,mac tkinter needs to be installed) \"\"\"\n",
    "    root = Tk()\n",
    "    width = root.winfo_screenwidth()\n",
    "    height = root.winfo_screenheight()\n",
    "    \n",
    "    return width, height"
   ]
  },
  {
   "cell_type": "code",
   "execution_count": null,
   "metadata": {},
   "outputs": [],
   "source": [
    "from mss import mss\n",
    "\n",
    "# The simplest use, save a screen shot of the 1st monitor\n",
    "with mss() as sct:\n",
    "    sct.shot()"
   ]
  },
  {
   "cell_type": "code",
   "execution_count": null,
   "metadata": {},
   "outputs": [],
   "source": [
    "import inspect"
   ]
  },
  {
   "cell_type": "code",
   "execution_count": 2,
   "metadata": {},
   "outputs": [
    {
     "ename": "TclError",
     "evalue": "image \"pyimage2\" doesn't exist",
     "output_type": "error",
     "traceback": [
      "\u001b[0;31m---------------------------------------------------------------------------\u001b[0m",
      "\u001b[0;31mTclError\u001b[0m                                  Traceback (most recent call last)",
      "\u001b[0;32m<ipython-input-2-4dc9787b25c4>\u001b[0m in \u001b[0;36m<module>\u001b[0;34m\u001b[0m\n\u001b[1;32m     78\u001b[0m \u001b[0;34m\u001b[0m\u001b[0m\n\u001b[1;32m     79\u001b[0m \u001b[0;32mif\u001b[0m \u001b[0m__name__\u001b[0m \u001b[0;34m==\u001b[0m \u001b[0;34m'__main__'\u001b[0m\u001b[0;34m:\u001b[0m\u001b[0;34m\u001b[0m\u001b[0;34m\u001b[0m\u001b[0m\n\u001b[0;32m---> 80\u001b[0;31m     \u001b[0mapp\u001b[0m \u001b[0;34m=\u001b[0m \u001b[0mApplication\u001b[0m\u001b[0;34m(\u001b[0m\u001b[0;34m)\u001b[0m\u001b[0;34m\u001b[0m\u001b[0;34m\u001b[0m\u001b[0m\n\u001b[0m\u001b[1;32m     81\u001b[0m \u001b[0;34m\u001b[0m\u001b[0m\n\u001b[1;32m     82\u001b[0m \u001b[0;34m\u001b[0m\u001b[0m\n",
      "\u001b[0;32m<ipython-input-2-4dc9787b25c4>\u001b[0m in \u001b[0;36m__init__\u001b[0;34m(self)\u001b[0m\n\u001b[1;32m     23\u001b[0m \u001b[0;34m\u001b[0m\u001b[0m\n\u001b[1;32m     24\u001b[0m         \u001b[0mbg\u001b[0m \u001b[0;34m=\u001b[0m \u001b[0mPhotoImage\u001b[0m\u001b[0;34m(\u001b[0m\u001b[0mfile\u001b[0m\u001b[0;34m=\u001b[0m\u001b[0mself\u001b[0m\u001b[0;34m.\u001b[0m\u001b[0mfilename\u001b[0m\u001b[0;34m)\u001b[0m\u001b[0;34m\u001b[0m\u001b[0;34m\u001b[0m\u001b[0m\n\u001b[0;32m---> 25\u001b[0;31m         \u001b[0mself\u001b[0m\u001b[0;34m.\u001b[0m\u001b[0mc\u001b[0m\u001b[0;34m.\u001b[0m\u001b[0mcreate_image\u001b[0m\u001b[0;34m(\u001b[0m\u001b[0;36m0\u001b[0m\u001b[0;34m,\u001b[0m \u001b[0;36m0\u001b[0m\u001b[0;34m,\u001b[0m \u001b[0mimage\u001b[0m\u001b[0;34m=\u001b[0m\u001b[0mbg\u001b[0m\u001b[0;34m,\u001b[0m \u001b[0manchor\u001b[0m\u001b[0;34m=\u001b[0m\u001b[0mNW\u001b[0m\u001b[0;34m)\u001b[0m\u001b[0;34m\u001b[0m\u001b[0;34m\u001b[0m\u001b[0m\n\u001b[0m\u001b[1;32m     26\u001b[0m \u001b[0;34m\u001b[0m\u001b[0m\n\u001b[1;32m     27\u001b[0m         \u001b[0mself\u001b[0m\u001b[0;34m.\u001b[0m\u001b[0mc\u001b[0m\u001b[0;34m.\u001b[0m\u001b[0mbind\u001b[0m\u001b[0;34m(\u001b[0m\u001b[0;34m\"<ButtonPress-1>\"\u001b[0m\u001b[0;34m,\u001b[0m \u001b[0mself\u001b[0m\u001b[0;34m.\u001b[0m\u001b[0mon_press\u001b[0m\u001b[0;34m)\u001b[0m\u001b[0;34m\u001b[0m\u001b[0;34m\u001b[0m\u001b[0m\n",
      "\u001b[0;32m/usr/lib/python3.8/tkinter/__init__.py\u001b[0m in \u001b[0;36mcreate_image\u001b[0;34m(self, *args, **kw)\u001b[0m\n\u001b[1;32m   2783\u001b[0m     \u001b[0;32mdef\u001b[0m \u001b[0mcreate_image\u001b[0m\u001b[0;34m(\u001b[0m\u001b[0mself\u001b[0m\u001b[0;34m,\u001b[0m \u001b[0;34m*\u001b[0m\u001b[0margs\u001b[0m\u001b[0;34m,\u001b[0m \u001b[0;34m**\u001b[0m\u001b[0mkw\u001b[0m\u001b[0;34m)\u001b[0m\u001b[0;34m:\u001b[0m\u001b[0;34m\u001b[0m\u001b[0;34m\u001b[0m\u001b[0m\n\u001b[1;32m   2784\u001b[0m         \u001b[0;34m\"\"\"Create image item with coordinates x1,y1.\"\"\"\u001b[0m\u001b[0;34m\u001b[0m\u001b[0;34m\u001b[0m\u001b[0m\n\u001b[0;32m-> 2785\u001b[0;31m         \u001b[0;32mreturn\u001b[0m \u001b[0mself\u001b[0m\u001b[0;34m.\u001b[0m\u001b[0m_create\u001b[0m\u001b[0;34m(\u001b[0m\u001b[0;34m'image'\u001b[0m\u001b[0;34m,\u001b[0m \u001b[0margs\u001b[0m\u001b[0;34m,\u001b[0m \u001b[0mkw\u001b[0m\u001b[0;34m)\u001b[0m\u001b[0;34m\u001b[0m\u001b[0;34m\u001b[0m\u001b[0m\n\u001b[0m\u001b[1;32m   2786\u001b[0m \u001b[0;34m\u001b[0m\u001b[0m\n\u001b[1;32m   2787\u001b[0m     \u001b[0;32mdef\u001b[0m \u001b[0mcreate_line\u001b[0m\u001b[0;34m(\u001b[0m\u001b[0mself\u001b[0m\u001b[0;34m,\u001b[0m \u001b[0;34m*\u001b[0m\u001b[0margs\u001b[0m\u001b[0;34m,\u001b[0m \u001b[0;34m**\u001b[0m\u001b[0mkw\u001b[0m\u001b[0;34m)\u001b[0m\u001b[0;34m:\u001b[0m\u001b[0;34m\u001b[0m\u001b[0;34m\u001b[0m\u001b[0m\n",
      "\u001b[0;32m/usr/lib/python3.8/tkinter/__init__.py\u001b[0m in \u001b[0;36m_create\u001b[0;34m(self, itemType, args, kw)\u001b[0m\n\u001b[1;32m   2769\u001b[0m         \u001b[0;32melse\u001b[0m\u001b[0;34m:\u001b[0m\u001b[0;34m\u001b[0m\u001b[0;34m\u001b[0m\u001b[0m\n\u001b[1;32m   2770\u001b[0m             \u001b[0mcnf\u001b[0m \u001b[0;34m=\u001b[0m \u001b[0;34m{\u001b[0m\u001b[0;34m}\u001b[0m\u001b[0;34m\u001b[0m\u001b[0;34m\u001b[0m\u001b[0m\n\u001b[0;32m-> 2771\u001b[0;31m         return self.tk.getint(self.tk.call(\n\u001b[0m\u001b[1;32m   2772\u001b[0m             \u001b[0mself\u001b[0m\u001b[0;34m.\u001b[0m\u001b[0m_w\u001b[0m\u001b[0;34m,\u001b[0m \u001b[0;34m'create'\u001b[0m\u001b[0;34m,\u001b[0m \u001b[0mitemType\u001b[0m\u001b[0;34m,\u001b[0m\u001b[0;34m\u001b[0m\u001b[0;34m\u001b[0m\u001b[0m\n\u001b[1;32m   2773\u001b[0m             *(args + self._options(cnf, kw))))\n",
      "\u001b[0;31mTclError\u001b[0m: image \"pyimage2\" doesn't exist"
     ]
    }
   ],
   "source": [
    "import os\n",
    "from tkinter import *\n",
    "from mss import mss\n",
    "\n",
    "\n",
    "\n",
    "class Application:\n",
    "    \n",
    "    def __init__(self):\n",
    "        self.window = Tk()\n",
    "        self.window.title(\"Snip picture\")\n",
    "        self.window.attributes('-fullscreen', True)  \n",
    "        self.fullScreenState = False\n",
    "        self.window.bind(\"<F11>\", self.toggleFullScreen)\n",
    "        self.window.bind(\"<Escape>\", self.quitFullScreen)\n",
    "        \n",
    "        self.c = Canvas(self.window, cursor=\"cross\")\n",
    "        self.c.pack(expand=YES, fill=BOTH)\n",
    "\n",
    "        # Primary monitor screenshot\n",
    "        with mss() as sct:\n",
    "            self.filename = sct.shot(output=os.path.relpath('temp.png'))\n",
    "            \n",
    "        bg = PhotoImage(file=self.filename)\n",
    "        self.c.create_image(0, 0, image=bg, anchor=NW)\n",
    "        \n",
    "        self.c.bind(\"<ButtonPress-1>\", self.on_press)\n",
    "        self.c.bind(\"<B1-Motion>\", self.on_drag)\n",
    "        self.c.bind(\"<ButtonRelease-1>\", self.on_release)\n",
    "\n",
    "        self.window.mainloop()\n",
    "    \n",
    "\n",
    "    def toggleFullScreen(self, event):\n",
    "        self.fullScreenState = not self.fullScreenState\n",
    "        self.window.attributes(\"-fullscreen\", self.fullScreenState)\n",
    "\n",
    "    def quitFullScreen(self, event):\n",
    "        self.fullScreenState = False\n",
    "        self.window.attributes(\"-fullscreen\", self.fullScreenState)\n",
    "        \n",
    "        \n",
    "    def on_press(self, event):\n",
    "        print(\"Pressed\", event)\n",
    "        \n",
    "        self.sx = event.x\n",
    "        self.sy = event.y\n",
    "        \n",
    "        self.rect = self.c.create_rectangle(self.sx, self.sy, self.sx, self.sy, width=2, fill=\"\", outline=\"green3\")\n",
    "        self.d1 = self.c.create_line(self.sx, self.sy, self.sx, self.sy, fill=\"salmon\")\n",
    "        self.d2 = self.c.create_line(self.sx, self.sy, self.sx, self.sy, fill=\"salmon\")\n",
    "        \n",
    "        \n",
    "    def on_drag(self, event):\n",
    "        print(\"Draged\", event)\n",
    "        self.cx = event.x\n",
    "        self.cy = event.y\n",
    "\n",
    "        self.c.coords(self.rect, self.sx, self.sy, self.cx, self.cy)\n",
    "        self.c.coords(self.d1, self.sx, self.sy, self.cx, self.cy)\n",
    "        self.c.coords(self.d2, self.cx, self.sy, self.sx, self.cy)\n",
    "        \n",
    "        \n",
    "    def on_release(self, event):\n",
    "        print(\"Released\", event)\n",
    "        self.ex = event.x\n",
    "        self.ey = event.y\n",
    "        \n",
    "        self.c.create_rectangle(self.sx, self.sy, self.ex, self.ey, width=2, fill=\"\", outline=\"green3\")\n",
    "        \n",
    "        os.remove(self.filename)\n",
    "        self.c.destroy()\n",
    "        self.window.withdraw()\n",
    "        self.window.quit()\n",
    "        \n",
    "        \n",
    "\n",
    "        \n",
    "if __name__ == '__main__':\n",
    "    app = Application()  \n",
    "    \n",
    "    "
   ]
  },
  {
   "cell_type": "code",
   "execution_count": null,
   "metadata": {},
   "outputs": [],
   "source": []
  },
  {
   "cell_type": "code",
   "execution_count": null,
   "metadata": {},
   "outputs": [],
   "source": []
  },
  {
   "cell_type": "code",
   "execution_count": null,
   "metadata": {},
   "outputs": [],
   "source": []
  },
  {
   "cell_type": "code",
   "execution_count": null,
   "metadata": {},
   "outputs": [],
   "source": []
  },
  {
   "cell_type": "code",
   "execution_count": null,
   "metadata": {},
   "outputs": [],
   "source": []
  },
  {
   "cell_type": "code",
   "execution_count": null,
   "metadata": {},
   "outputs": [],
   "source": []
  },
  {
   "cell_type": "code",
   "execution_count": null,
   "metadata": {},
   "outputs": [],
   "source": []
  },
  {
   "cell_type": "code",
   "execution_count": null,
   "metadata": {},
   "outputs": [],
   "source": [
    "# EXAMPLE 1\n",
    "\n",
    "import tkinter as tk\n",
    "\n",
    "class Fullscreen_Example:\n",
    "    def __init__(self):\n",
    "        self.window = tk.Tk()\n",
    "        self.window.attributes('-fullscreen', True)  \n",
    "        self.fullScreenState = False\n",
    "        self.window.bind(\"<F11>\", self.toggleFullScreen)\n",
    "        self.window.bind(\"<Escape>\", self.quitFullScreen)\n",
    "\n",
    "        self.window.mainloop()\n",
    "\n",
    "    def toggleFullScreen(self, event):\n",
    "        self.fullScreenState = not self.fullScreenState\n",
    "        self.window.attributes(\"-fullscreen\", self.fullScreenState)\n",
    "\n",
    "    def quitFullScreen(self, event):\n",
    "        self.fullScreenState = False\n",
    "        self.window.attributes(\"-fullscreen\", self.fullScreenState)\n",
    "\n",
    "if __name__ == '__main__':\n",
    "    app = Fullscreen_Example()  "
   ]
  },
  {
   "cell_type": "code",
   "execution_count": null,
   "metadata": {},
   "outputs": [],
   "source": [
    "# EXAMPLE 2 with canvas\n",
    "\n",
    "\n",
    "from tkinter import *\n",
    "# import pyautogui\n",
    "\n",
    "import datetime\n",
    "\n",
    "class Application():\n",
    "    def __init__(self, master):\n",
    "        self.master = master\n",
    "        self.rect = None\n",
    "        self.x = self.y = 0\n",
    "        self.start_x = None\n",
    "        self.start_y = None\n",
    "        self.curX = None\n",
    "        self.curY = None\n",
    "\n",
    "        # root.configure(background = 'red')\n",
    "        # root.attributes(\"-transparentcolor\",\"red\")\n",
    "\n",
    "#         root.attributes(\"-transparent\", \"blue\")\n",
    "        root.geometry('400x50+200+200')  # set new geometry\n",
    "        root.title('Lil Snippy')\n",
    "        self.menu_frame = Frame(master, bg=\"blue\")\n",
    "        self.menu_frame.pack(fill=BOTH, expand=YES)\n",
    "\n",
    "        self.buttonBar = Frame(self.menu_frame,bg=\"\")\n",
    "        self.buttonBar.pack(fill=BOTH,expand=YES)\n",
    "\n",
    "        self.snipButton = Button(self.buttonBar, width=3, command=self.createScreenCanvas, background=\"green\")\n",
    "        self.snipButton.pack(expand=YES)\n",
    "\n",
    "        self.master_screen = Toplevel(root)\n",
    "        self.master_screen.withdraw()\n",
    "#         self.master_screen.attributes(\"-transparent\", \"blue\")\n",
    "        self.picture_frame = Frame(self.master_screen, background = \"blue\")\n",
    "        self.picture_frame.pack(fill=BOTH, expand=YES)\n",
    "\n",
    "    def takeBoundedScreenShot(self, x1, y1, x2, y2):\n",
    "        im = pyautogui.screenshot(region=(x1, y1, x2, y2))\n",
    "        x = datetime.datetime.now()\n",
    "        fileName = x.strftime(\"%f\")\n",
    "        im.save(\"snips/\" + fileName + \".png\")\n",
    "\n",
    "    def createScreenCanvas(self):\n",
    "        self.master_screen.deiconify()\n",
    "        root.withdraw()\n",
    "\n",
    "        self.screenCanvas = Canvas(self.picture_frame, cursor=\"cross\", bg=\"grey11\")\n",
    "        self.screenCanvas.pack(fill=BOTH, expand=YES)\n",
    "\n",
    "        self.screenCanvas.bind(\"<ButtonPress-1>\", self.on_button_press)\n",
    "        self.screenCanvas.bind(\"<B1-Motion>\", self.on_move_press)\n",
    "        self.screenCanvas.bind(\"<ButtonRelease-1>\", self.on_button_release)\n",
    "\n",
    "        self.master_screen.attributes('-fullscreen', True)\n",
    "        self.master_screen.attributes('-alpha', .3)\n",
    "        self.master_screen.lift()\n",
    "        self.master_screen.attributes(\"-topmost\", True)\n",
    "\n",
    "    def on_button_release(self, event):\n",
    "        self.recPosition()\n",
    "\n",
    "        if self.start_x <= self.curX and self.start_y <= self.curY:\n",
    "            print(\"right down\")\n",
    "            self.takeBoundedScreenShot(self.start_x, self.start_y, self.curX - self.start_x, self.curY - self.start_y)\n",
    "\n",
    "        elif self.start_x >= self.curX and self.start_y <= self.curY:\n",
    "            print(\"left down\")\n",
    "            self.takeBoundedScreenShot(self.curX, self.start_y, self.start_x - self.curX, self.curY - self.start_y)\n",
    "\n",
    "        elif self.start_x <= self.curX and self.start_y >= self.curY:\n",
    "            print(\"right up\")\n",
    "            self.takeBoundedScreenShot(self.start_x, self.curY, self.curX - self.start_x, self.start_y - self.curY)\n",
    "\n",
    "        elif self.start_x >= self.curX and self.start_y >= self.curY:\n",
    "            print(\"left up\")\n",
    "            self.takeBoundedScreenShot(self.curX, self.curY, self.start_x - self.curX, self.start_y - self.curY)\n",
    "\n",
    "        self.exitScreenshotMode()\n",
    "        return event\n",
    "\n",
    "    def exitScreenshotMode(self):\n",
    "        print(\"Screenshot mode exited\")\n",
    "        self.screenCanvas.destroy()\n",
    "        self.master_screen.withdraw()\n",
    "        root.deiconify()\n",
    "\n",
    "    def exit_application(self):\n",
    "        print(\"Application exit\")\n",
    "        root.quit()\n",
    "\n",
    "    def on_button_press(self, event):\n",
    "        # save mouse drag start position\n",
    "        self.start_x = self.screenCanvas.canvasx(event.x)\n",
    "        self.start_y = self.screenCanvas.canvasy(event.y)\n",
    "\n",
    "        self.rect = self.screenCanvas.create_rectangle(self.x, self.y, 1, 1, outline='red', width=3, fill=\"blue\")\n",
    "\n",
    "    def on_move_press(self, event):\n",
    "        self.curX, self.curY = (event.x, event.y)\n",
    "        # expand rectangle as you drag the mouse\n",
    "        self.screenCanvas.coords(self.rect, self.start_x, self.start_y, self.curX, self.curY)\n",
    "\n",
    "    def recPosition(self):\n",
    "        print(self.start_x)\n",
    "        print(self.start_y)\n",
    "        print(self.curX)\n",
    "        print(self.curY)\n",
    "\n",
    "        \n",
    "        \n",
    "        \n",
    "if __name__ == '__main__':\n",
    "    root = Tk()\n",
    "#     root.wait_visibility(root)\n",
    "    app = Application(root)\n",
    "    root.mainloop()"
   ]
  },
  {
   "cell_type": "code",
   "execution_count": null,
   "metadata": {},
   "outputs": [],
   "source": []
  },
  {
   "cell_type": "code",
   "execution_count": null,
   "metadata": {},
   "outputs": [],
   "source": []
  },
  {
   "cell_type": "code",
   "execution_count": null,
   "metadata": {},
   "outputs": [],
   "source": []
  },
  {
   "cell_type": "code",
   "execution_count": null,
   "metadata": {},
   "outputs": [],
   "source": []
  },
  {
   "cell_type": "code",
   "execution_count": null,
   "metadata": {},
   "outputs": [],
   "source": []
  },
  {
   "cell_type": "code",
   "execution_count": null,
   "metadata": {},
   "outputs": [],
   "source": []
  },
  {
   "cell_type": "code",
   "execution_count": null,
   "metadata": {},
   "outputs": [],
   "source": []
  },
  {
   "cell_type": "code",
   "execution_count": null,
   "metadata": {},
   "outputs": [],
   "source": []
  }
 ],
 "metadata": {
  "kernelspec": {
   "display_name": "Python 3",
   "language": "python",
   "name": "python3"
  },
  "language_info": {
   "codemirror_mode": {
    "name": "ipython",
    "version": 3
   },
   "file_extension": ".py",
   "mimetype": "text/x-python",
   "name": "python",
   "nbconvert_exporter": "python",
   "pygments_lexer": "ipython3",
   "version": "3.8.5"
  }
 },
 "nbformat": 4,
 "nbformat_minor": 4
}
